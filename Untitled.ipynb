{
 "cells": [
  {
   "cell_type": "code",
   "execution_count": 1,
   "metadata": {},
   "outputs": [
    {
     "name": "stderr",
     "output_type": "stream",
     "text": [
      "Using TensorFlow backend.\n"
     ]
    }
   ],
   "source": [
    "import os\n",
    "import pandas as pd\n",
    "import tqdm\n",
    "from tqdm import tqdm_notebook\n",
    "import numpy as np\n",
    "from matplotlib import pyplot as plt\n",
    "from sklearn.preprocessing import MinMaxScaler\n",
    "from sklearn.model_selection import train_test_split\n",
    "from keras.models import Sequential,load_model\n",
    "from keras.layers import LSTM, Dense\n",
    "from keras.layers import Dropout, Activation, Flatten\n",
    "from keras.optimizers import SGD"
   ]
  },
  {
   "cell_type": "code",
   "execution_count": 2,
   "metadata": {},
   "outputs": [
    {
     "name": "stdout",
     "output_type": "stream",
     "text": [
      "              Open    High     Low   Close   Volume  OpenInt\n",
      "Date                                                        \n",
      "1962-01-02  0.6277  0.6362  0.6201  0.6201  2575579        0\n",
      "1962-01-03  0.6201  0.6201  0.6122  0.6201  1764749        0\n",
      "1962-01-04  0.6201  0.6201  0.6037  0.6122  2194010        0\n",
      "1962-01-05  0.6122  0.6122  0.5798  0.5957  3255244        0\n",
      "1962-01-08  0.5957  0.5957  0.5716  0.5957  3696430        0\n"
     ]
    }
   ],
   "source": [
    "df_ge = pd.read_csv( \"us.ge.txt\", index_col=0)\n",
    "print(df_ge.head())"
   ]
  },
  {
   "cell_type": "code",
   "execution_count": 3,
   "metadata": {},
   "outputs": [
    {
     "data": {
      "text/plain": [
       "'\\nplt.figure()\\nplt.plot(df_ge[\"Open\"])\\nplt.plot(df_ge[\"High\"])\\nplt.plot(df_ge[\"Low\"])\\nplt.plot(df_ge[\"Close\"])\\nplt.title(\\'GE stock price history\\')\\nplt.ylabel(\\'Price (USD)\\')\\nplt.xlabel(\\'Days\\')\\nplt.legend([\\'Open\\',\\'High\\',\\'Low\\',\\'Close\\'], loc=\\'upper left\\')\\nplt.show()\\n'"
      ]
     },
     "execution_count": 3,
     "metadata": {},
     "output_type": "execute_result"
    }
   ],
   "source": [
    "'''\n",
    "plt.figure()\n",
    "plt.plot(df_ge[\"Open\"])\n",
    "plt.plot(df_ge[\"High\"])\n",
    "plt.plot(df_ge[\"Low\"])\n",
    "plt.plot(df_ge[\"Close\"])\n",
    "plt.title('GE stock price history')\n",
    "plt.ylabel('Price (USD)')\n",
    "plt.xlabel('Days')\n",
    "plt.legend(['Open','High','Low','Close'], loc='upper left')\n",
    "plt.show()\n",
    "'''"
   ]
  },
  {
   "cell_type": "code",
   "execution_count": 4,
   "metadata": {},
   "outputs": [
    {
     "data": {
      "text/plain": [
       "'\\nplt.figure()\\nplt.plot(df_ge[\"Volume\"])\\nplt.title(\\'GE stock volume history\\')\\nplt.ylabel(\\'Volume\\')\\nplt.xlabel(\\'Days\\')\\nplt.show()\\n'"
      ]
     },
     "execution_count": 4,
     "metadata": {},
     "output_type": "execute_result"
    }
   ],
   "source": [
    "'''\n",
    "plt.figure()\n",
    "plt.plot(df_ge[\"Volume\"])\n",
    "plt.title('GE stock volume history')\n",
    "plt.ylabel('Volume')\n",
    "plt.xlabel('Days')\n",
    "plt.show()\n",
    "'''"
   ]
  },
  {
   "cell_type": "code",
   "execution_count": 5,
   "metadata": {},
   "outputs": [
    {
     "name": "stdout",
     "output_type": "stream",
     "text": [
      "checking if any null values are present\n",
      " Open       0\n",
      "High       0\n",
      "Low        0\n",
      "Close      0\n",
      "Volume     0\n",
      "OpenInt    0\n",
      "dtype: int64\n"
     ]
    }
   ],
   "source": [
    "print(\"checking if any null values are present\\n\", df_ge.isna().sum())"
   ]
  },
  {
   "cell_type": "code",
   "execution_count": 6,
   "metadata": {},
   "outputs": [
    {
     "name": "stdout",
     "output_type": "stream",
     "text": [
      "Train and Test size 11246 2812\n"
     ]
    }
   ],
   "source": [
    "#train_cols = [\"Open\",\"High\",\"Low\",\"Close\",\"Volume\"]\n",
    "train_cols = [\"Open\",\"High\",\"Low\",\"Close\"]\n",
    "df_train, df_test = train_test_split(df_ge, train_size=0.8, test_size=0.2, shuffle=False)\n",
    "print(\"Train and Test size\", len(df_train), len(df_test))"
   ]
  },
  {
   "cell_type": "code",
   "execution_count": 7,
   "metadata": {},
   "outputs": [
    {
     "data": {
      "text/plain": [
       "array([[27.935, 28.049, 27.769, 28.049],\n",
       "       [27.814, 28.066, 27.776, 28.003],\n",
       "       [28.099, 28.178, 27.953, 28.058],\n",
       "       ...,\n",
       "       [20.21 , 20.32 , 20.07 , 20.12 ],\n",
       "       [20.04 , 20.071, 19.85 , 19.99 ],\n",
       "       [19.98 , 20.68 , 19.9  , 20.49 ]])"
      ]
     },
     "execution_count": 7,
     "metadata": {},
     "output_type": "execute_result"
    }
   ],
   "source": [
    "# Loading training data into X\n",
    "x = df_train.loc[:,train_cols].values\n",
    "# Min Max scalr normalizing\n",
    "#min_max_scaler = MinMaxScaler()\n",
    "# Normalizing Training data\n",
    "#x_train = min_max_scaler.fit_transform(x)\n",
    "x_train=x\n",
    "# Normalizing testing\n",
    "#x_test = min_max_scaler.transform(df_test.loc[:,train_cols])\n",
    "x_test = df_test.loc[:,train_cols].values\n",
    "x_test"
   ]
  },
  {
   "cell_type": "code",
   "execution_count": 8,
   "metadata": {},
   "outputs": [],
   "source": [
    "def build_timeseries(mat, y_col_index, TIME_STEPS):\n",
    "    # y_col_index is the index of column that would act as output column\n",
    "    # total number of time-series samples would be len(mat) - TIME_STEPS\n",
    "    dim_0 = mat.shape[0] - TIME_STEPS\n",
    "    dim_1 = mat.shape[1]\n",
    "    x = np.zeros((dim_0, TIME_STEPS, dim_1))\n",
    "    y = np.zeros((dim_0,))\n",
    "    \n",
    "    for i in tqdm_notebook(range(dim_0)):\n",
    "        x[i] = mat[i:TIME_STEPS+i]\n",
    "        y[i] = mat[TIME_STEPS+i, y_col_index]\n",
    "    print(\"length of time-series i/o\",x.shape,y.shape)\n",
    "    return x, y"
   ]
  },
  {
   "cell_type": "code",
   "execution_count": 9,
   "metadata": {},
   "outputs": [],
   "source": [
    "def trim_dataset(mat, batch_size):\n",
    "    \"\"\"\n",
    "    trims dataset to a size that's divisible by BATCH_SIZE\n",
    "    \"\"\"\n",
    "    no_of_rows_drop = mat.shape[0]%batch_size\n",
    "    if(no_of_rows_drop > 0):\n",
    "        return mat[:-no_of_rows_drop]\n",
    "    else:\n",
    "        return mat"
   ]
  },
  {
   "cell_type": "code",
   "execution_count": 30,
   "metadata": {},
   "outputs": [
    {
     "data": {
      "application/vnd.jupyter.widget-view+json": {
       "model_id": "fcab657c58e04cae821a4a5b77c25a15",
       "version_major": 2,
       "version_minor": 0
      },
      "text/plain": [
       "HBox(children=(IntProgress(value=0, max=11228), HTML(value='')))"
      ]
     },
     "metadata": {},
     "output_type": "display_data"
    },
    {
     "name": "stdout",
     "output_type": "stream",
     "text": [
      "\n",
      "length of time-series i/o (11228, 18, 4) (11228,)\n"
     ]
    },
    {
     "data": {
      "application/vnd.jupyter.widget-view+json": {
       "model_id": "6acb74c02f484cd4a813e78b709d223f",
       "version_major": 2,
       "version_minor": 0
      },
      "text/plain": [
       "HBox(children=(IntProgress(value=0, max=2794), HTML(value='')))"
      ]
     },
     "metadata": {},
     "output_type": "display_data"
    },
    {
     "name": "stdout",
     "output_type": "stream",
     "text": [
      "\n",
      "length of time-series i/o (2794, 18, 4) (2794,)\n"
     ]
    }
   ],
   "source": [
    "TIME_STEPS = 18\n",
    "Y_index = 3\n",
    "X_Train, Y_Train = build_timeseries(x_train, Y_index,TIME_STEPS)\n",
    "#x_t = trim_dataset(x_t, BATCH_SIZE)\n",
    "#y_t = trim_dataset(y_t, BATCH_SIZE)\n",
    "X_Val, Y_Val = build_timeseries(x_test,  Y_index,TIME_STEPS)\n",
    "#x_val, x_test_t = np.split(trim_dataset(x_temp, BATCH_SIZE),2)\n",
    "#y_val, y_test_t = np.split(trim_dataset(y_temp, BATCH_SIZE),2)"
   ]
  },
  {
   "cell_type": "code",
   "execution_count": 31,
   "metadata": {},
   "outputs": [
    {
     "data": {
      "text/plain": [
       "array([ 0.5957,  0.5957,  0.6037, ..., 27.382 , 27.718 , 27.912 ])"
      ]
     },
     "execution_count": 31,
     "metadata": {},
     "output_type": "execute_result"
    }
   ],
   "source": [
    "Y_Train"
   ]
  },
  {
   "cell_type": "code",
   "execution_count": 32,
   "metadata": {},
   "outputs": [
    {
     "data": {
      "text/plain": [
       "(11228, 18, 4)"
      ]
     },
     "execution_count": 32,
     "metadata": {},
     "output_type": "execute_result"
    }
   ],
   "source": [
    "X_Train.shape"
   ]
  },
  {
   "cell_type": "code",
   "execution_count": 36,
   "metadata": {},
   "outputs": [
    {
     "name": "stdout",
     "output_type": "stream",
     "text": [
      "Train on 11228 samples, validate on 2794 samples\n",
      "Epoch 1/100\n",
      "11228/11228 [==============================] - 6s - loss: 26.2318 - acc: 0.0000e+00 - val_loss: 1.7707 - val_acc: 3.5791e-04\n",
      "Epoch 2/100\n",
      "11228/11228 [==============================] - 5s - loss: 2.4157 - acc: 0.0000e+00 - val_loss: 0.5698 - val_acc: 7.1582e-04\n",
      "Epoch 3/100\n",
      "11228/11228 [==============================] - 5s - loss: 2.1953 - acc: 0.0000e+00 - val_loss: 0.6083 - val_acc: 7.1582e-04\n",
      "Epoch 4/100\n",
      "11228/11228 [==============================] - 5s - loss: 1.7910 - acc: 0.0000e+00 - val_loss: 0.6379 - val_acc: 0.0000e+00\n",
      "Epoch 5/100\n",
      "11228/11228 [==============================] - 5s - loss: 1.6612 - acc: 0.0000e+00 - val_loss: 2.5713 - val_acc: 3.5791e-04\n",
      "Epoch 6/100\n",
      "11228/11228 [==============================] - 5s - loss: 1.8020 - acc: 0.0000e+00 - val_loss: 0.7669 - val_acc: 7.1582e-04\n",
      "Epoch 7/100\n",
      "11228/11228 [==============================] - 5s - loss: 1.4995 - acc: 0.0000e+00 - val_loss: 0.8193 - val_acc: 3.5791e-04\n",
      "Epoch 8/100\n",
      "11228/11228 [==============================] - 5s - loss: 1.3466 - acc: 0.0000e+00 - val_loss: 0.7254 - val_acc: 0.0000e+00\n",
      "Epoch 9/100\n",
      "11228/11228 [==============================] - 5s - loss: 1.3144 - acc: 0.0000e+00 - val_loss: 1.3771 - val_acc: 0.0000e+00\n",
      "Epoch 10/100\n",
      "11228/11228 [==============================] - 5s - loss: 1.3778 - acc: 0.0000e+00 - val_loss: 2.1083 - val_acc: 3.5791e-04\n",
      "Epoch 11/100\n",
      "11228/11228 [==============================] - 5s - loss: 1.2851 - acc: 8.9063e-05 - val_loss: 0.8756 - val_acc: 3.5791e-04\n",
      "Epoch 12/100\n",
      "11228/11228 [==============================] - 5s - loss: 1.2681 - acc: 8.9063e-05 - val_loss: 1.1093 - val_acc: 0.0000e+00\n",
      "Epoch 13/100\n",
      "11228/11228 [==============================] - 5s - loss: 1.1218 - acc: 0.0000e+00 - val_loss: 0.9732 - val_acc: 0.0000e+00\n",
      "Epoch 14/100\n",
      "11228/11228 [==============================] - 5s - loss: 1.2312 - acc: 0.0000e+00 - val_loss: 0.2578 - val_acc: 7.1582e-04\n",
      "Epoch 15/100\n",
      "11228/11228 [==============================] - 5s - loss: 1.1970 - acc: 0.0000e+00 - val_loss: 0.8034 - val_acc: 0.0000e+00\n",
      "Epoch 16/100\n",
      "11228/11228 [==============================] - 5s - loss: 1.1166 - acc: 0.0000e+00 - val_loss: 0.8371 - val_acc: 0.0000e+00\n",
      "Epoch 17/100\n",
      "11228/11228 [==============================] - 5s - loss: 1.0314 - acc: 0.0000e+00 - val_loss: 0.7676 - val_acc: 7.1582e-04\n",
      "Epoch 18/100\n",
      "11228/11228 [==============================] - 5s - loss: 1.0903 - acc: 0.0000e+00 - val_loss: 1.2212 - val_acc: 3.5791e-04\n",
      "Epoch 19/100\n",
      "11228/11228 [==============================] - 5s - loss: 1.0618 - acc: 0.0000e+00 - val_loss: 0.3317 - val_acc: 7.1582e-04\n",
      "Epoch 20/100\n",
      "11228/11228 [==============================] - 5s - loss: 0.9756 - acc: 0.0000e+00 - val_loss: 0.7872 - val_acc: 3.5791e-04\n",
      "Epoch 21/100\n",
      "11228/11228 [==============================] - 5s - loss: 0.9728 - acc: 0.0000e+00 - val_loss: 0.4414 - val_acc: 3.5791e-04\n",
      "Epoch 22/100\n",
      "11228/11228 [==============================] - 5s - loss: 0.9589 - acc: 0.0000e+00 - val_loss: 0.3106 - val_acc: 0.0011\n",
      "Epoch 23/100\n",
      "11228/11228 [==============================] - 5s - loss: 0.9327 - acc: 0.0000e+00 - val_loss: 0.3719 - val_acc: 3.5791e-04\n",
      "Epoch 24/100\n",
      "11228/11228 [==============================] - 5s - loss: 0.8718 - acc: 8.9063e-05 - val_loss: 0.5078 - val_acc: 7.1582e-04\n",
      "Epoch 25/100\n",
      "11228/11228 [==============================] - 5s - loss: 0.9003 - acc: 0.0000e+00 - val_loss: 0.3472 - val_acc: 3.5791e-04\n",
      "Epoch 26/100\n",
      "11228/11228 [==============================] - 5s - loss: 0.9163 - acc: 0.0000e+00 - val_loss: 0.7510 - val_acc: 0.0011\n",
      "Epoch 27/100\n",
      "11228/11228 [==============================] - 5s - loss: 0.8159 - acc: 0.0000e+00 - val_loss: 0.3408 - val_acc: 0.0011\n",
      "Epoch 28/100\n",
      "11228/11228 [==============================] - 5s - loss: 0.7994 - acc: 8.9063e-05 - val_loss: 0.3125 - val_acc: 0.0011\n",
      "Epoch 29/100\n",
      "11228/11228 [==============================] - 5s - loss: 0.7954 - acc: 8.9063e-05 - val_loss: 0.5440 - val_acc: 7.1582e-04\n",
      "Epoch 30/100\n",
      "11228/11228 [==============================] - 5s - loss: 0.7387 - acc: 0.0000e+00 - val_loss: 0.2817 - val_acc: 7.1582e-04\n",
      "Epoch 31/100\n",
      "11228/11228 [==============================] - 5s - loss: 0.8096 - acc: 0.0000e+00 - val_loss: 2.0271 - val_acc: 0.0000e+00\n",
      "Epoch 32/100\n",
      "11228/11228 [==============================] - 5s - loss: 0.8510 - acc: 8.9063e-05 - val_loss: 0.4168 - val_acc: 0.0011\n",
      "Epoch 33/100\n",
      "11228/11228 [==============================] - 5s - loss: 0.7555 - acc: 8.9063e-05 - val_loss: 0.6324 - val_acc: 3.5791e-04\n",
      "Epoch 34/100\n",
      "11228/11228 [==============================] - 5s - loss: 0.6516 - acc: 8.9063e-05 - val_loss: 1.1088 - val_acc: 3.5791e-04\n",
      "Epoch 35/100\n",
      "11228/11228 [==============================] - 5s - loss: 0.7113 - acc: 0.0000e+00 - val_loss: 0.6036 - val_acc: 3.5791e-04\n",
      "Epoch 36/100\n",
      "11228/11228 [==============================] - 5s - loss: 0.6840 - acc: 0.0000e+00 - val_loss: 0.2906 - val_acc: 0.0014\n",
      "Epoch 37/100\n",
      "11228/11228 [==============================] - 5s - loss: 0.6153 - acc: 8.9063e-05 - val_loss: 0.2848 - val_acc: 7.1582e-04\n",
      "Epoch 38/100\n",
      "11228/11228 [==============================] - 5s - loss: 0.5684 - acc: 0.0000e+00 - val_loss: 0.3426 - val_acc: 0.0014\n",
      "Epoch 39/100\n",
      "11228/11228 [==============================] - 5s - loss: 0.5662 - acc: 0.0000e+00 - val_loss: 0.2832 - val_acc: 7.1582e-04\n",
      "Epoch 40/100\n",
      "11228/11228 [==============================] - 5s - loss: 0.6021 - acc: 0.0000e+00 - val_loss: 0.7837 - val_acc: 7.1582e-04\n",
      "Epoch 41/100\n",
      "11228/11228 [==============================] - 5s - loss: 0.5328 - acc: 8.9063e-05 - val_loss: 0.5087 - val_acc: 7.1582e-04\n",
      "Epoch 42/100\n",
      "11228/11228 [==============================] - 5s - loss: 0.5176 - acc: 0.0000e+00 - val_loss: 0.8285 - val_acc: 0.0000e+00\n",
      "Epoch 43/100\n",
      "11228/11228 [==============================] - 5s - loss: 0.5493 - acc: 8.9063e-05 - val_loss: 0.7868 - val_acc: 3.5791e-04\n",
      "Epoch 44/100\n",
      "11228/11228 [==============================] - 5s - loss: 0.5292 - acc: 0.0000e+00 - val_loss: 0.4848 - val_acc: 0.0011\n",
      "Epoch 45/100\n",
      "11228/11228 [==============================] - 5s - loss: 0.5744 - acc: 8.9063e-05 - val_loss: 0.5850 - val_acc: 0.0011\n",
      "Epoch 46/100\n",
      "11228/11228 [==============================] - 5s - loss: 0.4823 - acc: 0.0000e+00 - val_loss: 0.3137 - val_acc: 7.1582e-04\n",
      "Epoch 47/100\n",
      "11228/11228 [==============================] - 5s - loss: 0.4918 - acc: 0.0000e+00 - val_loss: 0.2901 - val_acc: 7.1582e-04\n",
      "Epoch 48/100\n",
      "11228/11228 [==============================] - 5s - loss: 0.4411 - acc: 0.0000e+00 - val_loss: 0.2396 - val_acc: 7.1582e-04\n",
      "Epoch 49/100\n",
      "11228/11228 [==============================] - 5s - loss: 0.4975 - acc: 0.0000e+00 - val_loss: 0.3120 - val_acc: 7.1582e-04\n",
      "Epoch 50/100\n",
      "11228/11228 [==============================] - 5s - loss: 0.4439 - acc: 8.9063e-05 - val_loss: 0.2401 - val_acc: 0.0011\n",
      "Epoch 51/100\n",
      "11228/11228 [==============================] - 5s - loss: 0.4383 - acc: 8.9063e-05 - val_loss: 0.2710 - val_acc: 0.0011\n",
      "Epoch 52/100\n",
      "11228/11228 [==============================] - 5s - loss: 0.4586 - acc: 0.0000e+00 - val_loss: 0.3174 - val_acc: 0.0011\n",
      "Epoch 53/100\n",
      "11228/11228 [==============================] - 5s - loss: 0.4486 - acc: 0.0000e+00 - val_loss: 0.3259 - val_acc: 0.0014\n",
      "Epoch 54/100\n",
      "11228/11228 [==============================] - 5s - loss: 0.4234 - acc: 0.0000e+00 - val_loss: 1.0180 - val_acc: 3.5791e-04\n",
      "Epoch 55/100\n",
      "11228/11228 [==============================] - 5s - loss: 0.3991 - acc: 0.0000e+00 - val_loss: 1.0322 - val_acc: 3.5791e-04\n",
      "Epoch 56/100\n",
      "11228/11228 [==============================] - 5s - loss: 0.4337 - acc: 0.0000e+00 - val_loss: 0.3405 - val_acc: 7.1582e-04\n",
      "Epoch 57/100\n",
      "11228/11228 [==============================] - 5s - loss: 0.4037 - acc: 0.0000e+00 - val_loss: 0.4177 - val_acc: 3.5791e-04\n",
      "Epoch 58/100\n",
      "11228/11228 [==============================] - 5s - loss: 0.4501 - acc: 8.9063e-05 - val_loss: 0.4578 - val_acc: 7.1582e-04\n",
      "Epoch 59/100\n",
      "11228/11228 [==============================] - 5s - loss: 0.3897 - acc: 0.0000e+00 - val_loss: 0.2998 - val_acc: 7.1582e-04\n",
      "Epoch 60/100\n",
      "11228/11228 [==============================] - 5s - loss: 0.3834 - acc: 8.9063e-05 - val_loss: 0.4300 - val_acc: 7.1582e-04\n",
      "Epoch 61/100\n",
      "11228/11228 [==============================] - 5s - loss: 0.3605 - acc: 0.0000e+00 - val_loss: 0.3395 - val_acc: 7.1582e-04\n",
      "Epoch 62/100\n",
      "11228/11228 [==============================] - 5s - loss: 0.3688 - acc: 0.0000e+00 - val_loss: 0.5187 - val_acc: 7.1582e-04\n",
      "Epoch 63/100\n",
      "11228/11228 [==============================] - 6s - loss: 0.3594 - acc: 0.0000e+00 - val_loss: 0.2998 - val_acc: 0.0011\n",
      "Epoch 64/100\n",
      "11228/11228 [==============================] - 5s - loss: 0.3559 - acc: 8.9063e-05 - val_loss: 0.6715 - val_acc: 7.1582e-04\n",
      "Epoch 65/100\n",
      "11228/11228 [==============================] - 5s - loss: 0.3303 - acc: 8.9063e-05 - val_loss: 0.3281 - val_acc: 7.1582e-04\n",
      "Epoch 66/100\n",
      "11228/11228 [==============================] - 5s - loss: 0.3626 - acc: 0.0000e+00 - val_loss: 0.4149 - val_acc: 7.1582e-04\n",
      "Epoch 67/100\n",
      "11228/11228 [==============================] - 5s - loss: 0.3487 - acc: 8.9063e-05 - val_loss: 0.4228 - val_acc: 3.5791e-04\n",
      "Epoch 68/100\n",
      "11228/11228 [==============================] - 5s - loss: 0.3582 - acc: 0.0000e+00 - val_loss: 0.3267 - val_acc: 0.0011\n",
      "Epoch 69/100\n",
      "11228/11228 [==============================] - 5s - loss: 0.3316 - acc: 8.9063e-05 - val_loss: 0.2297 - val_acc: 7.1582e-04\n",
      "Epoch 70/100\n",
      "11228/11228 [==============================] - 5s - loss: 0.4886 - acc: 0.0000e+00 - val_loss: 0.5526 - val_acc: 3.5791e-04\n",
      "Epoch 71/100\n",
      "11228/11228 [==============================] - 5s - loss: 0.3253 - acc: 8.9063e-05 - val_loss: 0.4676 - val_acc: 7.1582e-04\n",
      "Epoch 72/100\n",
      "11228/11228 [==============================] - 5s - loss: 0.3460 - acc: 8.9063e-05 - val_loss: 0.3297 - val_acc: 7.1582e-04\n",
      "Epoch 73/100\n",
      "11228/11228 [==============================] - 5s - loss: 0.3592 - acc: 0.0000e+00 - val_loss: 0.6401 - val_acc: 3.5791e-04\n",
      "Epoch 74/100\n",
      "11228/11228 [==============================] - 5s - loss: 0.3324 - acc: 0.0000e+00 - val_loss: 0.2732 - val_acc: 7.1582e-04\n",
      "Epoch 75/100\n",
      "11228/11228 [==============================] - 5s - loss: 0.3600 - acc: 8.9063e-05 - val_loss: 0.3093 - val_acc: 0.0011\n",
      "Epoch 76/100\n",
      "11228/11228 [==============================] - 5s - loss: 0.3302 - acc: 0.0000e+00 - val_loss: 1.4150 - val_acc: 0.0000e+00\n",
      "Epoch 77/100\n",
      "11228/11228 [==============================] - 5s - loss: 0.3296 - acc: 8.9063e-05 - val_loss: 0.5104 - val_acc: 7.1582e-04\n",
      "Epoch 78/100\n",
      "11228/11228 [==============================] - 5s - loss: 0.3213 - acc: 0.0000e+00 - val_loss: 0.3345 - val_acc: 7.1582e-04\n",
      "Epoch 79/100\n",
      "11228/11228 [==============================] - 5s - loss: 0.3177 - acc: 8.9063e-05 - val_loss: 0.8255 - val_acc: 0.0000e+00\n",
      "Epoch 80/100\n",
      "11228/11228 [==============================] - 5s - loss: 0.3063 - acc: 0.0000e+00 - val_loss: 0.3975 - val_acc: 7.1582e-04\n",
      "Epoch 81/100\n",
      "11228/11228 [==============================] - 5s - loss: 0.3486 - acc: 0.0000e+00 - val_loss: 0.3382 - val_acc: 0.0011\n",
      "Epoch 82/100\n",
      "11228/11228 [==============================] - 5s - loss: 0.3017 - acc: 8.9063e-05 - val_loss: 0.2908 - val_acc: 7.1582e-04\n",
      "Epoch 83/100\n",
      "11228/11228 [==============================] - 5s - loss: 0.2879 - acc: 8.9063e-05 - val_loss: 0.3090 - val_acc: 0.0011\n",
      "Epoch 84/100\n",
      "11228/11228 [==============================] - 5s - loss: 0.3014 - acc: 0.0000e+00 - val_loss: 0.6017 - val_acc: 3.5791e-04\n",
      "Epoch 85/100\n",
      "11228/11228 [==============================] - 5s - loss: 0.3269 - acc: 0.0000e+00 - val_loss: 0.3555 - val_acc: 7.1582e-04\n",
      "Epoch 86/100\n",
      "11228/11228 [==============================] - 5s - loss: 0.2716 - acc: 8.9063e-05 - val_loss: 0.6314 - val_acc: 3.5791e-04\n",
      "Epoch 87/100\n",
      "11228/11228 [==============================] - 5s - loss: 0.2884 - acc: 0.0000e+00 - val_loss: 0.3521 - val_acc: 0.0011\n",
      "Epoch 88/100\n",
      "11228/11228 [==============================] - 5s - loss: 0.3063 - acc: 8.9063e-05 - val_loss: 0.4492 - val_acc: 3.5791e-04\n",
      "Epoch 89/100\n",
      "11228/11228 [==============================] - 5s - loss: 0.3265 - acc: 0.0000e+00 - val_loss: 0.6445 - val_acc: 3.5791e-04\n",
      "Epoch 90/100\n",
      "11228/11228 [==============================] - 5s - loss: 0.3292 - acc: 0.0000e+00 - val_loss: 0.4565 - val_acc: 7.1582e-04\n",
      "Epoch 91/100\n",
      "11228/11228 [==============================] - 5s - loss: 0.2765 - acc: 0.0000e+00 - val_loss: 0.3204 - val_acc: 0.0011\n",
      "Epoch 92/100\n",
      "11228/11228 [==============================] - 5s - loss: 0.2720 - acc: 0.0000e+00 - val_loss: 0.2951 - val_acc: 7.1582e-04\n",
      "Epoch 93/100\n",
      "11228/11228 [==============================] - 5s - loss: 0.2830 - acc: 0.0000e+00 - val_loss: 0.3400 - val_acc: 0.0011\n",
      "Epoch 94/100\n",
      "11228/11228 [==============================] - 5s - loss: 0.2866 - acc: 0.0000e+00 - val_loss: 0.3425 - val_acc: 7.1582e-04\n",
      "Epoch 95/100\n",
      "11228/11228 [==============================] - 5s - loss: 0.2736 - acc: 0.0000e+00 - val_loss: 0.2930 - val_acc: 3.5791e-04\n",
      "Epoch 96/100\n",
      "11228/11228 [==============================] - 5s - loss: 0.2976 - acc: 0.0000e+00 - val_loss: 0.3455 - val_acc: 7.1582e-04\n",
      "Epoch 97/100\n",
      "11228/11228 [==============================] - 5s - loss: 0.2777 - acc: 8.9063e-05 - val_loss: 0.4348 - val_acc: 7.1582e-04\n",
      "Epoch 98/100\n",
      "11228/11228 [==============================] - 5s - loss: 0.2945 - acc: 8.9063e-05 - val_loss: 0.4991 - val_acc: 7.1582e-04\n",
      "Epoch 99/100\n",
      "11228/11228 [==============================] - 5s - loss: 0.2955 - acc: 0.0000e+00 - val_loss: 0.7574 - val_acc: 7.1582e-04\n",
      "Epoch 100/100\n",
      "11228/11228 [==============================] - 5s - loss: 0.2793 - acc: 0.0000e+00 - val_loss: 0.4047 - val_acc: 3.5791e-04\n",
      "_________________________________________________________________\n",
      "Layer (type)                 Output Shape              Param #   \n",
      "=================================================================\n",
      "lstm_15 (LSTM)               (None, 18, 24)            2784      \n",
      "_________________________________________________________________\n",
      "dropout_15 (Dropout)         (None, 18, 24)            0         \n",
      "_________________________________________________________________\n",
      "lstm_16 (LSTM)               (None, 50)                15000     \n",
      "_________________________________________________________________\n",
      "dropout_16 (Dropout)         (None, 50)                0         \n",
      "_________________________________________________________________\n",
      "dense_15 (Dense)             (None, 20)                1020      \n",
      "_________________________________________________________________\n",
      "dense_16 (Dense)             (None, 1)                 21        \n",
      "=================================================================\n",
      "Total params: 18,825\n",
      "Trainable params: 18,825\n",
      "Non-trainable params: 0\n",
      "_________________________________________________________________\n"
     ]
    }
   ],
   "source": [
    "# Initialising the RNN\n",
    "model = Sequential()\n",
    "# Adding the first LSTM layer and some Dropout regularisation\n",
    "model.add(LSTM(24, return_sequences=True,\n",
    "               input_shape=(X_Train.shape[1], X_Train.shape[2])))  # returns a sequence of vectors of dimension 64\n",
    "model.add(Dropout(0.2))\n",
    "\n",
    "# Adding a second LSTM layer and some Dropout regularisation\n",
    "model.add(LSTM(units = 50))\n",
    "model.add(Dropout(0.2))\n",
    "\n",
    "model.add(Dense(20,activation='relu'))\n",
    "\n",
    "\n",
    "# Adding the output layer\n",
    "#model.add(Dense(1, activation=\"linear\"))\n",
    "model.add(Dense(1))\n",
    "\n",
    "#model.add(Dense(units = 1))\n",
    "# Compiling the RNN\n",
    "\n",
    "model.compile(optimizer = 'adam', loss = 'mean_squared_error',metrics=['accuracy'])\n",
    "\n",
    "history=model.fit(X_Train, Y_Train,\n",
    "          batch_size=32, epochs=100,\n",
    "          validation_data=(X_Val, Y_Val))\n",
    "# Model summary for number of parameters use in the algorithm \n",
    "model.summary()"
   ]
  },
  {
   "cell_type": "code",
   "execution_count": 37,
   "metadata": {},
   "outputs": [
    {
     "data": {
      "image/png": "[encoded data removed]",
      "text/plain": [
       "<Figure size 432x288 with 1 Axes>"
      ]
     },
     "metadata": {
      "needs_background": "light"
     },
     "output_type": "display_data"
    },
    {
     "data": {
      "image/png": "[encoded data removed]",
      "text/plain": [
       "<Figure size 432x288 with 1 Axes>"
      ]
     },
     "metadata": {
      "needs_background": "light"
     },
     "output_type": "display_data"
    }
   ],
   "source": [
    "plt.plot(history.history['acc'])\n",
    "plt.plot(history.history['val_acc'])\n",
    "plt.title('model accuracy')\n",
    "plt.ylabel('accuracy')\n",
    "plt.xlabel('epoch')\n",
    "plt.legend(['train', 'Val'], loc='upper left')\n",
    "plt.show()\n",
    "\n",
    "plt.plot(history.history['loss'])\n",
    "plt.plot(history.history['val_loss'])\n",
    "plt.title('model loss')\n",
    "plt.ylabel('loss')\n",
    "plt.xlabel('epoch')\n",
    "plt.legend(['train', 'Val'], loc='upper left')\n",
    "plt.show()\n"
   ]
  },
  {
   "cell_type": "code",
   "execution_count": 39,
   "metadata": {},
   "outputs": [],
   "source": [
    "model.save('my_model_01.hdf5')"
   ]
  },
  {
   "cell_type": "code",
   "execution_count": 66,
   "metadata": {},
   "outputs": [
    {
     "data": {
      "text/plain": [
       "'\\nx_buffer = np.zeros((1,TIME_STEPS,4))\\nfor i in range(X_Val.shape[0]):\\n    x_buffer[0,:,:] = X_Val[i,:,:]\\n    print(model.predict( x_buffer), Y_Val[i])\\n'"
      ]
     },
     "execution_count": 66,
     "metadata": {},
     "output_type": "execute_result"
    }
   ],
   "source": [
    "#print(model.predict(X_Val)\n",
    "'''\n",
    "x_buffer = np.zeros((1,TIME_STEPS,4))\n",
    "for i in range(X_Val.shape[0]):\n",
    "    x_buffer[0,:,:] = X_Val[i,:,:]\n",
    "    print(model.predict( x_buffer), Y_Val[i])\n",
    "'''"
   ]
  },
  {
   "cell_type": "code",
   "execution_count": 68,
   "metadata": {},
   "outputs": [
    {
     "data": {
      "text/plain": [
       "array([[29.320581],\n",
       "       [29.309177],\n",
       "       [29.36478 ],\n",
       "       ...,\n",
       "       [20.464634],\n",
       "       [20.758732],\n",
       "       [20.493483]], dtype=float32)"
      ]
     },
     "execution_count": 68,
     "metadata": {},
     "output_type": "execute_result"
    }
   ],
   "source": [
    "predict = model.predict(X_Val)\n",
    "predict"
   ]
  },
  {
   "cell_type": "code",
   "execution_count": 74,
   "metadata": {},
   "outputs": [
    {
     "data": {
      "image/png": "[encoded data removed]",
      "text/plain": [
       "<Figure size 432x288 with 1 Axes>"
      ]
     },
     "metadata": {
      "needs_background": "light"
     },
     "output_type": "display_data"
    }
   ],
   "source": [
    "plt.figure()\n",
    "plt.plot(predict)\n",
    "plt.plot(Y_Val)\n",
    "\n",
    "plt.title('GE stock price prediction')\n",
    "plt.ylabel('Price (USD)')\n",
    "plt.xlabel('Days')\n",
    "plt.legend(['predict','Actual'], loc='upper left')\n",
    "\n",
    "plt.savefig(\"figure.jpg\")\n",
    "plt.show()"
   ]
  },
  {
   "cell_type": "code",
   "execution_count": null,
   "metadata": {},
   "outputs": [],
   "source": []
  },
  {
   "cell_type": "code",
   "execution_count": null,
   "metadata": {},
   "outputs": [],
   "source": []
  }
 ],
 "metadata": {
  "kernelspec": {
   "display_name": "Python 3",
   "language": "python",
   "name": "python3"
  },
  "language_info": {
   "codemirror_mode": {
    "name": "ipython",
    "version": 3
   },
   "file_extension": ".py",
   "mimetype": "text/x-python",
   "name": "python",
   "nbconvert_exporter": "python",
   "pygments_lexer": "ipython3",
   "version": "3.5.3rc1"
  }
 },
 "nbformat": 4,
 "nbformat_minor": 2
}
